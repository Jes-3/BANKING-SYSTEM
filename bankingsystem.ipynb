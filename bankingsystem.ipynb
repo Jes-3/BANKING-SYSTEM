{
 "cells": [
  {
   "cell_type": "code",
   "execution_count": null,
   "id": "128e0c9d-61c9-42e0-bbc8-ba97e6fe1984",
   "metadata": {},
   "outputs": [],
   "source": [
    "class BankAccount:\n",
    "    user_account=BankAccount\n",
    "    def __init__(self,user,password):\n",
    "        self.username=username\n",
    "        self.password=password\n",
    "        self.balance=0\n",
    "    def login(self,username,password):\n",
    "        return username==self.username and password == self.password\n",
    "    def deposit(self,amount):\n",
    "        self.balance += amount\n",
    "        print(f\"Amount {amount}deposited sucessfully.current balancep:{self.balance}\")\n",
    "    def withdraw(self,amount):\n",
    "        if amount <= self.balance:\n",
    "            self.balance -= amount\n",
    "            print(f\"Amount {amount} withdrawn sucessfully.current balance:{self.balance}\")\n",
    "        else:print(\"insufficient balance.\")\n",
    "    def main():\n",
    "              #create a new accunt\n",
    "         user_account=BankAccount(\"user\",\"password\")\n",
    "        #login\n",
    "    username=input(\"enter username:\")\n",
    "    password=input(\"enter password:\")\n",
    "    if user_account.login(username,password):\n",
    "        print(\"login sucessful.\")\n",
    "    else:\n",
    "        print(\"inalid usernamr or password.\")\n",
    "return\n",
    "        #deposit\n",
    "amount_to_deposit=float(input(\"enter amount to deposit:\"))\n",
    "user_account.deposit(amount_to_deposit)\n",
    "#withdraw\n",
    "amount_to_withdraw=float(input(\"Enter amount to withdraw:\"))\n",
    "user_account.withdraw(amount_to_withdraw)\n",
    "\n",
    "if __name__==\"__main__\":\n",
    "    main()\n",
    "\n",
    "\n",
    "\n",
    "\n",
    "        \n",
    "        \n",
    "        \n",
    "        \n",
    "                  \n",
    "        "
   ]
  },
  {
   "cell_type": "code",
   "execution_count": null,
   "id": "475892e0-b159-4e0e-8485-e4cd0d964079",
   "metadata": {},
   "outputs": [],
   "source": []
  },
  {
   "cell_type": "code",
   "execution_count": null,
   "id": "a295850b-43f4-4396-b010-d5607b24370d",
   "metadata": {},
   "outputs": [],
   "source": []
  },
  {
   "cell_type": "code",
   "execution_count": null,
   "id": "31090a83-4c54-4a5d-a19d-a8be5b89a1b0",
   "metadata": {},
   "outputs": [],
   "source": []
  }
 ],
 "metadata": {
  "kernelspec": {
   "display_name": "Python 3 (ipykernel)",
   "language": "python",
   "name": "python3"
  },
  "language_info": {
   "codemirror_mode": {
    "name": "ipython",
    "version": 3
   },
   "file_extension": ".py",
   "mimetype": "text/x-python",
   "name": "python",
   "nbconvert_exporter": "python",
   "pygments_lexer": "ipython3",
   "version": "3.12.1"
  }
 },
 "nbformat": 4,
 "nbformat_minor": 5
}
